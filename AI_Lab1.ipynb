{
  "nbformat": 4,
  "nbformat_minor": 0,
  "metadata": {
    "colab": {
      "name": "AI_Lab1.ipynb",
      "provenance": [],
      "collapsed_sections": [],
      "authorship_tag": "ABX9TyP7vEp956v5Ta00N6PcKwcA",
      "include_colab_link": true
    },
    "kernelspec": {
      "name": "python3",
      "display_name": "Python 3"
    },
    "language_info": {
      "name": "python"
    }
  },
  "cells": [
    {
      "cell_type": "markdown",
      "metadata": {
        "id": "view-in-github",
        "colab_type": "text"
      },
      "source": [
        "<a href=\"https://colab.research.google.com/github/sarkhanj/AI_Labs/blob/main/AI_Lab1.ipynb\" target=\"_parent\"><img src=\"https://colab.research.google.com/assets/colab-badge.svg\" alt=\"Open In Colab\"/></a>"
      ]
    },
    {
      "cell_type": "code",
      "execution_count": 1,
      "metadata": {
        "id": "1h6-fdsCrp6Q"
      },
      "outputs": [],
      "source": [
        "import pandas as pd\n",
        "import math"
      ]
    },
    {
      "cell_type": "code",
      "source": [
        "df = pd.read_csv('Iris.csv')"
      ],
      "metadata": {
        "id": "2hINwqj0r9jD"
      },
      "execution_count": 39,
      "outputs": []
    },
    {
      "cell_type": "code",
      "source": [
        "group1 = group2 = group3 = pd.DataFrame()\n",
        "g = 50\n",
        "all = 150"
      ],
      "metadata": {
        "id": "Ehy4Uru5uU7O"
      },
      "execution_count": 2,
      "outputs": []
    },
    {
      "cell_type": "markdown",
      "source": [
        "# The Functions"
      ],
      "metadata": {
        "id": "BIV9_eia1OiN"
      }
    },
    {
      "cell_type": "code",
      "source": [
        "def createGroups(attribute, df):\n",
        "    new_df = df.sort_values(by=[attribute], ascending=True)\n",
        "    group1 = new_df.iloc[0:50, :]\n",
        "    group2 = new_df.iloc[50:100, :]\n",
        "    group3 = new_df.iloc[100:150, :]\n",
        "    return [group1, group2, group3]\n",
        "\n",
        "def findIrises(group):\n",
        "  setosa = group.query(\"Species == 'Iris-setosa'\").shape[0]\n",
        "  versicolor = group.query(\"Species == 'Iris-versicolor'\").shape[0]\n",
        "  virginica = group.query(\"Species == 'Iris-virginica'\").shape[0]\n",
        "  # print(\"# setosa: \",setosa)\n",
        "  # print(\"# versicolor: \",versicolor)\n",
        "  # print(\"# virginica: \",virginica)\n",
        "  return [setosa, versicolor, virginica]\n",
        "\n",
        "def makeOne(value):\n",
        "  if value == 0:\n",
        "    return 1\n",
        "  return value\n",
        "\n",
        "def entropy(stats):\n",
        "  global g\n",
        "  e = 0\n",
        "  for s in stats:\n",
        "    e += -((s/g)*math.log(makeOne(s/g), 2))\n",
        "  return e\n",
        "\n",
        "def findEntropy(group1, group2, group3):\n",
        "  group1_stats = findIrises(group1)\n",
        "  group2_stats = findIrises(group2)\n",
        "  group3_stats = findIrises(group3)\n",
        "  group1_entropy = entropy(group1_stats)\n",
        "  group2_entropy = entropy(group2_stats)\n",
        "  group3_entropy = entropy(group3_stats)\n",
        "  return [group1_entropy, group2_entropy, group3_entropy]\n",
        "\n",
        "def totalEntropy():\n",
        "  global g,all\n",
        "  e =0\n",
        "  for i in range(3):\n",
        "    e += -(g/all)*math.log(g/all,2)\n",
        "  return e\n",
        "\n",
        "def groupEntropyForDisc(group1, group2, group3):\n",
        "  e = 0\n",
        "  group_entries = findEntropy(group1, group2, group3)\n",
        "  print(group_entries)\n",
        "  for i in range(3):\n",
        "    e += (g/all)*group_entries[i]\n",
        "  return e\n",
        "\n",
        "def discPower(group1, group2, group3):\n",
        "  global g, all\n",
        "  H_iris = totalEntropy()\n",
        "  disc = H_iris - groupEntropyForDisc(group1, group2, group3)\n",
        "  return disc"
      ],
      "metadata": {
        "id": "nkn9i2UwrzXX"
      },
      "execution_count": 46,
      "outputs": []
    },
    {
      "cell_type": "markdown",
      "source": [
        "## Analyzing SepalLengthCm"
      ],
      "metadata": {
        "id": "s846r5CH1iHU"
      }
    },
    {
      "cell_type": "code",
      "source": [
        "[group1, group2, group3] = createGroups('SepalLengthCm',df)\n",
        "findEntropy(group1, group2, group3)\n",
        "totalEntropy()\n",
        "dp_sl = discPower(group1, group2, group3)\n",
        "print(\"DP :\",dp_sl)"
      ],
      "metadata": {
        "id": "QiITHpTCsjCw"
      },
      "execution_count": 41,
      "outputs": []
    },
    {
      "cell_type": "markdown",
      "source": [
        "## Analyzing SepalWidthCm"
      ],
      "metadata": {
        "id": "Lyo248QhE-X0"
      }
    },
    {
      "cell_type": "code",
      "source": [
        "group1_sw = group2_sw = group3_sw = pd.DataFrame()\n",
        "[group1_sw, group2_sw,group3_sw] =createGroups(\"SepalWidthCm\",df)\n",
        "findEntropy(group1_sw,group2_sw,group3_sw)\n",
        "dp_sw = discPower(group1_sw, group2_sw, group3_sw)\n",
        "print(\"DP: \", dp_sw)"
      ],
      "metadata": {
        "id": "wGg6mU4I7XFC",
        "colab": {
          "base_uri": "https://localhost:8080/"
        },
        "outputId": "f2f925fd-b325-46b6-e69a-e0544d3d634b"
      },
      "execution_count": 47,
      "outputs": [
        {
          "output_type": "stream",
          "name": "stdout",
          "text": [
            "[1.0855093773010511, 1.5569685454909614, 1.0971245697587875]\n",
            "DP:  0.3384283365375562\n"
          ]
        }
      ]
    },
    {
      "cell_type": "markdown",
      "source": [
        "### Analyzing PetalLengthCm"
      ],
      "metadata": {
        "id": "c12BtCKRScsk"
      }
    },
    {
      "cell_type": "code",
      "source": [
        "group1_pl = group2_pl = group3_pl= pd.DataFrame()\n",
        "[group1_pl, group2_pl,group3_pl] =createGroups(\"PetalLengthCm\",df)\n",
        "findEntropy(group1_pl, group2_pl,group3_pl)\n",
        "dp_pl = discPower(group1_pl, group2_pl, group3_pl)\n",
        "print(dp_pl)"
      ],
      "metadata": {
        "id": "92R0wuZfF7gN"
      },
      "execution_count": null,
      "outputs": []
    },
    {
      "cell_type": "markdown",
      "source": [
        "### Analyzing PetalWidthCm"
      ],
      "metadata": {
        "id": "3UArP9NYxNVh"
      }
    },
    {
      "cell_type": "code",
      "source": [
        "group1_pw = group2_pw = group3_pw= pd.DataFrame()\n",
        "[group1_pw, group2_pw,group3_pw] =createGroups(\"PetalWidthCm\",df)\n",
        "findEntropy(group1_pw, group2_pw,group3_pw)\n",
        "dp_pw = discPower(group1_pw, group2_pw, group3_pw)\n",
        "print(dp_pw)"
      ],
      "metadata": {
        "id": "axktizlMxRR5"
      },
      "execution_count": null,
      "outputs": []
    },
    {
      "cell_type": "markdown",
      "source": [
        "### Comparing Discriminative Powers"
      ],
      "metadata": {
        "id": "lmB_9EloyRf8"
      }
    },
    {
      "cell_type": "code",
      "source": [
        "dp_sw = discPower(group1_sw, group2_sw, group3_sw)\n",
        "dp_sl = discPower(group1, group2, group3)\n",
        "dp_pl = discPower(group1_pl, group2_pl, group3_pl)\n",
        "dp_pw = discPower(group1_pw, group2_pw, group3_pw)"
      ],
      "metadata": {
        "colab": {
          "base_uri": "https://localhost:8080/"
        },
        "id": "0pzTShZ52hdL",
        "outputId": "012dffbf-d040-426b-b471-9e7d8b35be81"
      },
      "execution_count": 48,
      "outputs": [
        {
          "output_type": "stream",
          "name": "stdout",
          "text": [
            "[1.0855093773010511, 1.5569685454909614, 1.0971245697587875]\n",
            "[0.6670730006443818, 1.31883378807372, 0.8267463724926178]\n",
            "[0.0, 0.32744491915447627, 0.32744491915447627]\n",
            "[0.0, 0.4021791902022729, 0.4021791902022729]\n"
          ]
        }
      ]
    },
    {
      "cell_type": "code",
      "source": [
        "dps = [dp_sl,dp_sw,dp_pl,dp_pw]\n",
        "print(dps)\n",
        "max = dp_sl\n",
        "c = 0\n",
        "for index, i in enumerate(dps):\n",
        "  if i > max:\n",
        "    max = i\n",
        "    print(index)\n",
        "    c = index\n",
        "\n",
        "if c == 0:\n",
        "  print(\"The biggest discriminative power is in the column of SepalLengthCm with \"+str(dp_sl))\n",
        "elif c == 1:\n",
        "  print(\"The biggest discriminative power is in the column of SepalWidthCm \"+str(dp_sw))\n",
        "elif c == 2:\n",
        "  print(\"The biggest discriminative power is in the column of PetalLengthCm \"+str(dp_pl))\n",
        "else:\n",
        "  print(\"The biggest discriminative power is in the column of PetalWidthCm \"+str(dp_pw))\n",
        "\n",
        "  "
      ],
      "metadata": {
        "colab": {
          "base_uri": "https://localhost:8080/"
        },
        "id": "8fKl2K3zyTre",
        "outputId": "860e621f-6b47-4d00-cef0-0eb05292805d"
      },
      "execution_count": 49,
      "outputs": [
        {
          "output_type": "stream",
          "name": "stdout",
          "text": [
            "[0.6474114469842497, 0.3384283365375562, 1.3666658879515052, 1.3168430405863076]\n",
            "2\n",
            "The biggest discriminative power is in the column of PetalLengthCm 1.3666658879515052\n"
          ]
        }
      ]
    }
  ]
}